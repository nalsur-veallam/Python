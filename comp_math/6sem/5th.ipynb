{
 "cells": [
  {
   "cell_type": "code",
   "execution_count": 140,
   "id": "7c86884e",
   "metadata": {},
   "outputs": [],
   "source": [
    "import numpy as np\n",
    "import pylab as plt\n",
    "from scipy.integrate import solve_bvp"
   ]
  },
  {
   "cell_type": "markdown",
   "id": "119c58c5",
   "metadata": {},
   "source": [
    "## First task"
   ]
  },
  {
   "cell_type": "code",
   "execution_count": 106,
   "id": "4609780a",
   "metadata": {},
   "outputs": [],
   "source": [
    "N = 100\n",
    "x = np.linspace(0,1,N)\n",
    "dx = x[1] - x[0]"
   ]
  },
  {
   "cell_type": "code",
   "execution_count": 107,
   "id": "cc5d2a25",
   "metadata": {},
   "outputs": [],
   "source": [
    "deriv = np.zeros((N, N))\n",
    "i, j = np.indices(deriv.shape)\n",
    "deriv[i==j-1] = 1/2/dx\n",
    "deriv[i==j+1] = -1/2/dx\n",
    "deriv[-1, -1] = 0\n",
    "deriv[-2, -1] = 0\n",
    "deriv[-1, -2] = -1/dx\n",
    "deriv[0, 0] = 1\n",
    "deriv[0, 1] = 0\n",
    "\n",
    "support = (x.reshape(-1, 1))@np.ones(N).reshape(1, -1)\n",
    "deriv = deriv * (1 - 4*support)"
   ]
  },
  {
   "cell_type": "code",
   "execution_count": 108,
   "id": "5218a9dc",
   "metadata": {},
   "outputs": [],
   "source": [
    "deriv2 = np.zeros((N, N))\n",
    "i, j = np.indices(deriv2.shape)\n",
    "deriv2[i==j-1] = 1/dx**2\n",
    "deriv2[i==j+1] = 1/dx**2\n",
    "deriv2[i==j] = -2/dx**2\n",
    "deriv2[-1, -1] = 0\n",
    "deriv2[-2, -1] = 0\n",
    "deriv2[-1, -2] = -2/dx**2\n",
    "deriv2[-1, -3] = 1/dx**2\n",
    "deriv2[0, 0] = -1/dx**2 - 1/dx\n",
    "deriv2[0, 1] = 1/dx**2"
   ]
  },
  {
   "cell_type": "code",
   "execution_count": 109,
   "id": "1483af26",
   "metadata": {},
   "outputs": [],
   "source": [
    "A = deriv2 + deriv + 8*np.eye(N)\n",
    "b = 5*np.ones(N)"
   ]
  },
  {
   "cell_type": "code",
   "execution_count": 110,
   "id": "351104d4",
   "metadata": {},
   "outputs": [],
   "source": [
    "y = np.linalg.inv(A)@b\n",
    "y[-1] = 0"
   ]
  },
  {
   "cell_type": "code",
   "execution_count": 111,
   "id": "3464643e",
   "metadata": {},
   "outputs": [],
   "source": [
    "y_real = -2*x**2+x + 1"
   ]
  },
  {
   "cell_type": "code",
   "execution_count": 112,
   "id": "b5244dc9",
   "metadata": {},
   "outputs": [
    {
     "data": {
      "text/plain": [
       "0.005391506779819615"
      ]
     },
     "execution_count": 112,
     "metadata": {},
     "output_type": "execute_result"
    }
   ],
   "source": [
    "np.linalg.norm(y_real-y)/np.linalg.norm(y_real)"
   ]
  },
  {
   "cell_type": "code",
   "execution_count": 113,
   "id": "16911faf",
   "metadata": {},
   "outputs": [
    {
     "data": {
      "image/png": "[encoded data removed]",
      "text/plain": [
       "<Figure size 432x288 with 1 Axes>"
      ]
     },
     "metadata": {
      "needs_background": "light"
     },
     "output_type": "display_data"
    }
   ],
   "source": [
    "plt.plot(x, y, label='my')\n",
    "plt.plot(x, y_real, label='real')\n",
    "plt.legend()\n",
    "plt.show()"
   ]
  },
  {
   "cell_type": "markdown",
   "id": "fd929779",
   "metadata": {},
   "source": [
    "## Second task"
   ]
  },
  {
   "cell_type": "markdown",
   "id": "0273f0ad",
   "metadata": {},
   "source": [
    "Метод дифференциальной прогонки можно использовать для решения краевых задач вида $y''(x)=f(x,y,y')$ с заданными граничными условиями $y(a)=\\alpha$ и $y(b)=\\beta$. В этой задаче мы имеем такое же дифференциальное уравнение, но в граничных условиях вместо значений $y$ используются производные $y'(0)$ и $y'(\\pi/2)$.\n",
    "\n",
    "Чтобы использовать метод дифференциальной прогонки, нам нужно преобразовать граничные условия в вид $y(a)=\\alpha$ и $y(b)=\\beta$. Мы можем сделать это, проинтегрировав дифференциальное уравнение один раз, чтобы получить $y'(x)=-y(x)+x\\cos x + C_1$ для некоторой константы $C_1$. Тогда заданные граничные условия принимают вид $y(0)=\\alpha$ и $y(\\pi/2)=\\beta$ требуемого вида. Однако нам все еще нужно определить значение $C_1$, чтобы получить единственное решение.\n",
    "\n",
    "Для определения $C_1$ можно использовать начальное условие $y'(0)=3y(0)+2$ и тот факт, что $y'(x)$ непрерывна на $[0,\\pi/2]$ потому что это решение дифференциального уравнения. Это дает нам уравнение $-y(0)+C_1=3y(0)+2$ или эквивалентно $C_1=4y(0)+2$.\n",
    "\n",
    "К сожалению, мы не можем определить значение $y(0)$ из заданных граничных условий. Условие $y'(\\pi/2)=-5y(\\pi/2)+2$ определяет только значение $y(\\pi/2)$, и нет никакой информации о производной или значении $ y$ в любой другой точке интервала $[0,\\pi/2]$. Следовательно, мы не можем найти единственное решение, используя метод дифференциальной прогонки."
   ]
  },
  {
   "cell_type": "markdown",
   "id": "10b30ece",
   "metadata": {},
   "source": [
    "## Fifth task"
   ]
  },
  {
   "cell_type": "code",
   "execution_count": 142,
   "id": "50784749",
   "metadata": {},
   "outputs": [
    {
     "data": {
      "image/png": "[encoded data removed]",
      "text/plain": [
       "<Figure size 432x288 with 1 Axes>"
      ]
     },
     "metadata": {
      "needs_background": "light"
     },
     "output_type": "display_data"
    }
   ],
   "source": [
    "# Define the boundary value problem\n",
    "def fun(x, y):\n",
    "    return np.vstack((y[1], y[0]**3))\n",
    "\n",
    "def bc(ya, yb):\n",
    "    return np.array([ya[0]-np.sqrt(2), yb[0]-1/np.sqrt(2)])\n",
    "\n",
    "# Define the initial mesh\n",
    "x = np.linspace(0, 1, 5)\n",
    "y = np.vstack((np.sqrt(2)*np.ones_like(x), np.zeros_like(x)))\n",
    "\n",
    "# Solve the boundary value problem\n",
    "sol = solve_bvp(fun, bc, x, y)\n",
    "\n",
    "# Plot the solution\n",
    "x_plot = np.linspace(0, 1, 100)\n",
    "y_plot = sol.sol(x_plot)[0]\n",
    "y_real = np.sqrt(2)/(1+x_plot)\n",
    "plt.plot(x_plot, y_plot)\n",
    "plt.plot(x_plot, y_real)\n",
    "plt.show()"
   ]
  },
  {
   "cell_type": "code",
   "execution_count": null,
   "id": "e0dad647",
   "metadata": {},
   "outputs": [],
   "source": []
  }
 ],
 "metadata": {
  "kernelspec": {
   "display_name": "Python 3 (ipykernel)",
   "language": "python",
   "name": "python3"
  },
  "language_info": {
   "codemirror_mode": {
    "name": "ipython",
    "version": 3
   },
   "file_extension": ".py",
   "mimetype": "text/x-python",
   "name": "python",
   "nbconvert_exporter": "python",
   "pygments_lexer": "ipython3",
   "version": "3.8.10"
  }
 },
 "nbformat": 4,
 "nbformat_minor": 5
}
