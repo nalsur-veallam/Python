{
 "cells": [
  {
   "cell_type": "code",
   "execution_count": 7,
   "id": "7a60233b",
   "metadata": {},
   "outputs": [],
   "source": [
    "import numpy as np\n",
    "import pylab as plt\n",
    "import scipy as sp"
   ]
  },
  {
   "cell_type": "markdown",
   "id": "494cf0c7",
   "metadata": {},
   "source": [
    "## Task 1"
   ]
  },
  {
   "cell_type": "code",
   "execution_count": 2,
   "id": "f38d9a7a",
   "metadata": {},
   "outputs": [],
   "source": [
    "def gauss_2(a, b):\n",
    "    r\"\"\"Return nodes and weights for a two-point Gauss quadrature on [a, b].\n",
    "    \n",
    "    Parameters\n",
    "    ----------\n",
    "    a, b : float\n",
    "       Boundaries of the integration interval\n",
    "       \n",
    "    Returns\n",
    "    -------\n",
    "    x1, x2, w1, w2 : float\n",
    "       Nodes and weights of the quadrature.\n",
    "    \"\"\"\n",
    "    x1 = 1/2*(a+b+(b-a)*np.polynomial.legendre.legroots([0,0,1])[0])\n",
    "    x2 = 1/2*(a+b+(b-a)*np.polynomial.legendre.legroots([0,0,1])[1])\n",
    "    \n",
    "    return x1, x2, 0.5, 0.5"
   ]
  },
  {
   "cell_type": "code",
   "execution_count": 3,
   "id": "07bdaaf2",
   "metadata": {},
   "outputs": [],
   "source": [
    "from numpy.testing import assert_allclose\n",
    "\n",
    "x1, x2, w1, w2 = gauss_2(0, 1)\n",
    "\n",
    "def f(x, n): \n",
    "    return x**n\n",
    "\n",
    "for n in [0, 1, 2, 3]:\n",
    "    assert_allclose(w1*f(x1, n=n) + w2*f(x2, n=n),\n",
    "                    1./(n+1), atol=1e-14)"
   ]
  },
  {
   "cell_type": "markdown",
   "id": "f2a6f0df",
   "metadata": {},
   "source": [
    "## Task 2"
   ]
  },
  {
   "cell_type": "code",
   "execution_count": 4,
   "id": "61fad7df",
   "metadata": {},
   "outputs": [],
   "source": [
    "def integ(npts=10):\n",
    "    \"\"\"Compute the value of the integral above.\n",
    "    \n",
    "    Subtract the singularities and use the trapezoid rule. \n",
    "    \n",
    "    Parameters\n",
    "    ----------\n",
    "    npts : int\n",
    "        The number of points for the trapezoid rule\n",
    "        \n",
    "    Returns\n",
    "    -------\n",
    "    I : float\n",
    "       The computed value of the integral\n",
    "    \"\"\"\n",
    "    \n",
    "    h = 1/(npts-1)\n",
    "    xs = np.linspace(0, 1, npts)\n",
    "    gs = np.nan_to_num((np.exp(xs) - (np.e - 1)*xs - 1)/(np.sqrt(xs*(1-xs))))\n",
    "    \n",
    "    return 0.5 * h * (gs[0] + 2 * sum(gs[1:-1]) + gs[-1]) + (np.e - 1)*np.pi/2 + np.pi"
   ]
  },
  {
   "cell_type": "code",
   "execution_count": 6,
   "id": "06ecedf7",
   "metadata": {},
   "outputs": [
    {
     "name": "stdout",
     "output_type": "stream",
     "text": [
      "5.512726680816957\n"
     ]
    },
    {
     "name": "stderr",
     "output_type": "stream",
     "text": [
      "/tmp/ipykernel_157804/2268598086.py:19: RuntimeWarning: invalid value encountered in true_divide\n",
      "  gs = np.nan_to_num((np.exp(xs) - (np.e - 1)*xs - 1)/(np.sqrt(xs*(1-xs))))\n"
     ]
    }
   ],
   "source": [
    "print(integ(npts=20))"
   ]
  },
  {
   "cell_type": "markdown",
   "id": "10b07742",
   "metadata": {},
   "source": [
    "## Task 3"
   ]
  },
  {
   "cell_type": "code",
   "execution_count": 8,
   "id": "839f3f86",
   "metadata": {},
   "outputs": [
    {
     "name": "stderr",
     "output_type": "stream",
     "text": [
      "/tmp/ipykernel_157804/2411688187.py:1: IntegrationWarning: The integral is probably divergent, or slowly convergent.\n",
      "  sp.integrate.quad(lambda x: np.sin(x) * np.cos(np.cos(x)) / x, 0, float('inf'))\n"
     ]
    },
    {
     "data": {
      "text/plain": [
       "(1.9653912540956746, 4.089174284042278)"
      ]
     },
     "execution_count": 8,
     "metadata": {},
     "output_type": "execute_result"
    }
   ],
   "source": [
    "sp.integrate.quad(lambda x: np.sin(x) * np.cos(np.cos(x)) / x, 0, float('inf'))"
   ]
  },
  {
   "cell_type": "markdown",
   "id": "af5651e0",
   "metadata": {},
   "source": [
    "## Task 4"
   ]
  },
  {
   "cell_type": "code",
   "execution_count": null,
   "id": "d54d6608",
   "metadata": {},
   "outputs": [],
   "source": []
  },
  {
   "cell_type": "markdown",
   "id": "06f99f38",
   "metadata": {},
   "source": [
    "## Task 5"
   ]
  },
  {
   "cell_type": "code",
   "execution_count": 9,
   "id": "fb359cd6",
   "metadata": {},
   "outputs": [
    {
     "name": "stdout",
     "output_type": "stream",
     "text": [
      "          3          2\n",
      "-0.03968 x + 0.3106 x - 0.8872 x + 0.984\n",
      "k = 1\n",
      "0.5216069591307567 0.5161638998703093 0.5216069591318861\n",
      "interpolate error: 0.005443059261576844, simpson error: 1.1294298829511717e-12\n",
      "          3          2\n",
      "-0.03968 x + 0.3106 x - 0.8872 x + 0.984\n",
      "k = 2\n",
      "0.38271443269552613 0.38546838869958333 0.3827144326944911\n",
      "interpolate error: 0.0027539560050922063, simpson error: 1.0350054147068022e-12\n",
      "          3          2\n",
      "-0.03968 x + 0.3106 x - 0.8872 x + 0.984\n",
      "k = 3\n",
      "0.3129641754892938 0.311159859245744 0.3129641754791317\n",
      "interpolate error: 0.0018043162333876706, simpson error: 1.0162093388998983e-11\n",
      "          3          2\n",
      "-0.03968 x + 0.3106 x - 0.8872 x + 0.984\n",
      "k = 4\n",
      "0.22512613690603706 0.22650188784439007 0.2251261368791124\n",
      "interpolate error: 0.0013757509652776723, simpson error: 2.692465694842383e-11\n",
      "          3          2\n",
      "-0.03968 x + 0.3106 x - 0.8872 x + 0.984\n",
      "k = 5\n",
      "0.20061806126667303 0.1995359532323807 0.2006180612045716\n",
      "interpolate error: 0.00108210797219091, simpson error: 6.210143510543276e-11\n",
      "          3          2\n",
      "-0.03968 x + 0.3106 x - 0.8872 x + 0.984\n",
      "k = 6\n",
      "0.15515449984353294 0.15607151556452584 0.15515449974100992\n",
      "interpolate error: 0.0009170158235159154, simpson error: 1.0252301785307338e-10\n",
      "          3          2\n",
      "-0.03968 x + 0.3106 x - 0.8872 x + 0.984\n",
      "k = 7\n",
      "0.14604994873872115 0.14527710910057268 0.14604994855692813\n",
      "interpolate error: 0.0007728394563554508, simpson error: 1.817930250780364e-10\n",
      "          3          2\n",
      "-0.03968 x + 0.3106 x - 0.8872 x + 0.984\n",
      "k = 8\n",
      "0.11775828723561166 0.1184460090851836 0.11775828698292035\n",
      "interpolate error: 0.0006877221022632551, simpson error: 2.526913123190866e-10\n",
      "          3          2\n",
      "-0.03968 x + 0.3106 x - 0.8872 x + 0.984\n",
      "k = 9\n",
      "0.11449908898627276 0.11389802158442427 0.11449908858992622\n",
      "interpolate error: 0.0006010670055019429, simpson error: 3.9634653892228755e-10\n"
     ]
    }
   ],
   "source": [
    "N = 1000\n",
    "x = np.linspace(0, np.pi, N+1)\n",
    "h = np.pi/N\n",
    "\n",
    "def f(k, x):\n",
    "    return np.exp(-x)*np.sin(k*x)\n",
    "\n",
    "def f_interp(k, x):\n",
    "    interpex = np.polyfit(x, np.exp(-x), deg = 3)\n",
    "    p = np.poly1d(interpex)\n",
    "    print(p)\n",
    "    \n",
    "    return (np.e**(-x)-p(x))*np.sin(k*x) \n",
    "\n",
    "def accurate_integral(x):\n",
    "    return 1/k**4*(k**2*(-0.11904*x**2 + 0.6212*x - 0.8872)*np.sin(k*x) + \\\n",
    "                  k*(k**2*(0.03986* x**3 - 0.3106*x**2 + 0.8872 * x - 0.984)-0.23808*x + 0.6212)*np.cos(k*x))\n",
    "\n",
    "def simpson(f, h):\n",
    "    if (len(f)-1) % 2 != 0:\n",
    "        return np.nan\n",
    "    return h/3. * (f[0] + 4 * sum(f[1:-1:2]) + \\\n",
    "                   2 * sum(f[2:-2:2]) + f[-1])\n",
    "\n",
    "\n",
    "for k in range(1, 10):\n",
    "    simps = simpson(f(k, x), h)\n",
    "    interp = simpson(f_interp(k, x), h) + accurate_integral(np.pi) - accurate_integral(0)\n",
    "    precise = k/(1+k**2) - np.exp(-np.pi)*(k*np.cos(k*np.pi) + np.sin(k*np.pi))/(1+k**2)\n",
    "    print('k = {}'.format(k))\n",
    "    print(simps, interp, precise)\n",
    "    print('interpolate error: {}, simpson error: {}'.format(np.abs(precise - interp), np.abs(simps - precise)))"
   ]
  },
  {
   "cell_type": "code",
   "execution_count": null,
   "id": "99d14cb3",
   "metadata": {},
   "outputs": [],
   "source": []
  }
 ],
 "metadata": {
  "kernelspec": {
   "display_name": "Python 3 (ipykernel)",
   "language": "python",
   "name": "python3"
  },
  "language_info": {
   "codemirror_mode": {
    "name": "ipython",
    "version": 3
   },
   "file_extension": ".py",
   "mimetype": "text/x-python",
   "name": "python",
   "nbconvert_exporter": "python",
   "pygments_lexer": "ipython3",
   "version": "3.8.10"
  }
 },
 "nbformat": 4,
 "nbformat_minor": 5
}
