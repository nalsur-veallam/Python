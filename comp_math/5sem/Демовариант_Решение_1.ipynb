{
 "cells": [
  {
   "cell_type": "markdown",
   "metadata": {
    "id": "kSCj1bJrhKvJ"
   },
   "source": [
    "# №1"
   ]
  },
  {
   "cell_type": "code",
   "execution_count": null,
   "metadata": {
    "id": "HReVVnfghQvc"
   },
   "outputs": [],
   "source": [
    "import numpy as np\n",
    "from scipy import optimize\n",
    "from scipy.optimize import minimize"
   ]
  },
  {
   "cell_type": "code",
   "execution_count": null,
   "metadata": {
    "id": "_o7I8cvghJy_"
   },
   "outputs": [],
   "source": [
    "def dist(z1, z2):\n",
    "  r = ((z1[0] - z2[0])**2 + (z1[1] - z2[1]) ** 2) ** (1/2)\n",
    "  return r\n",
    "\n",
    "def fourdist(x, z1, z2, z3, z4):\n",
    "  return (dist(z1, x)**2 + dist(z2, x)**2 + dist(z3, x)**2 + dist(z4, x)**2)\n",
    "\n",
    "\n",
    "def R(r, x, z1, z2, z3, z4):\n",
    "  return((dist(z1, x)-r)**2 + (dist(z2, x)-r)**2 + (dist(z3, x)-r)**2 + (dist(z4, x)-r)**2)\n",
    "\n",
    "def CR(z1, z2, z3, z4):\n",
    "  res = minimize(fourdist,[0, 0], args=(z1, z2, z3, z4))\n",
    "  C = res.x\n",
    "  resr = minimize(R, 1, args=(C, z1, z2, z3, z4))\n",
    "  r = resr.x\n",
    "  print(C)\n",
    "  print(r)\n",
    "\n"
   ]
  },
  {
   "cell_type": "code",
   "execution_count": null,
   "metadata": {
    "colab": {
     "base_uri": "https://localhost:8080/"
    },
    "id": "ClXLzmw6Q8yO",
    "outputId": "2589fbac-bdd5-40ec-82c0-cc600a3e7bad"
   },
   "outputs": [
    {
     "name": "stdout",
     "output_type": "stream",
     "text": [
      "[0. 0.]\n",
      "[1.41421356]\n"
     ]
    }
   ],
   "source": [
    "z1=[1,1]\n",
    "z2=[-1,-1]\n",
    "z3=[-1,1]\n",
    "z4=[1,-1]\n",
    "CR(z1, z2, z3, z4)\n"
   ]
  },
  {
   "cell_type": "markdown",
   "metadata": {
    "id": "RzUchU2if8y2"
   },
   "source": [
    "# №2"
   ]
  },
  {
   "cell_type": "markdown",
   "metadata": {
    "id": "BT11wG_ZTYOn"
   },
   "source": [
    "Найдем, вблизи каких значений искать корни уравнения методом Ньютона:\n",
    "\n",
    "Приравняем вторую производную к 0, решим квадратное уравнение $12 x^2-66 x +18 = 0$:\n",
    "$$\n",
    "x_1 = \\frac{11-\\sqrt{57}}{4} \\approx 0.29\n",
    "$$\n",
    "\n",
    "$$\n",
    "x_2 = \\frac{11+\\sqrt{57}}{4} \\approx 5.21\n",
    "$$\n",
    "\n",
    "Корни первой производной будут лежать между этих чисел, найдем их:"
   ]
  },
  {
   "cell_type": "code",
   "execution_count": null,
   "metadata": {
    "colab": {
     "base_uri": "https://localhost:8080/"
    },
    "id": "z0mJZI-gqIME",
    "outputId": "c9df1662-812b-4ae5-9fdf-8ecd8fb2dd58"
   },
   "outputs": [
    {
     "name": "stdout",
     "output_type": "stream",
     "text": [
      "[-0.36130468  1.          7.61130468]\n"
     ]
    }
   ],
   "source": [
    "def f(x):\n",
    "  return (x**4-11*x**3+9*x**2+11*x-10)    \n",
    "\n",
    "def fprime(x):\n",
    "  return (4*x**3 - 33*x**2 + 18*x + 11)\n",
    "\n",
    "\n",
    "z=[0, 1, 5.5]\n",
    "rootfprime = optimize.newton(fprime, z, fprime=lambda x: 12*x**2 - 66*x + 18) \n",
    "print(rootfprime)"
   ]
  },
  {
   "cell_type": "markdown",
   "metadata": {
    "id": "8_qyu7JCM-6E"
   },
   "source": [
    "Будем искать корни уравнения между найденных корней производной:"
   ]
  },
  {
   "cell_type": "code",
   "execution_count": null,
   "metadata": {
    "colab": {
     "base_uri": "https://localhost:8080/"
    },
    "id": "iytQd-sQfF4S",
    "outputId": "f92db543-70ff-4d79-8304-1c40c2da1426"
   },
   "outputs": [
    {
     "name": "stdout",
     "output_type": "stream",
     "text": [
      "[-1.  1.  1. 10.]\n"
     ]
    }
   ],
   "source": [
    "z=[-0.5, 0.5, 1.5, 8]\n",
    "root=optimize.newton(f, z, fprime)\n",
    "print(root)"
   ]
  },
  {
   "cell_type": "markdown",
   "metadata": {
    "id": "w-lMI7koNX4r"
   },
   "source": [
    "Область притяжения:"
   ]
  },
  {
   "cell_type": "code",
   "execution_count": null,
   "metadata": {
    "colab": {
     "base_uri": "https://localhost:8080/"
    },
    "id": "yFbAGbbidI-8",
    "outputId": "5d27786d-39ab-4bd2-8fd8-27069ac27933"
   },
   "outputs": [
    {
     "name": "stdout",
     "output_type": "stream",
     "text": [
      "7.6000000000000085\n"
     ]
    }
   ],
   "source": [
    "n = 200\n",
    "z = 10\n",
    "z_i = z\n",
    "z_n = z\n",
    "\n",
    "while z_n == 10:\n",
    "  z_i -= 0.1\n",
    "  z_n = z_i\n",
    "  for i in range(n):\n",
    "    z_n = z_n - f(z_n)/fprime(z_n)\n",
    "    i+=1\n",
    "\n",
    "print(z_i)"
   ]
  },
  {
   "cell_type": "markdown",
   "metadata": {
    "id": "hf-KBwquv58x"
   },
   "source": [
    "Точки пересечения окружностей $x^2+y^2=100$; $(x-10)^2 + y^2 = (10-7.6)^2$: $$\n",
    "(x,y) = (\\frac{1214}{125}, \\pm \\frac{24 \\sqrt{154}}{125}).\n",
    "$$\n",
    "\n",
    "Площадь сектора: $s = \\pi (10-7.6)^2 \\cdot 2 \\cdot arctg(\\frac{2\\sqrt{154}}{3})$"
   ]
  },
  {
   "cell_type": "code",
   "execution_count": null,
   "metadata": {
    "colab": {
     "base_uri": "https://localhost:8080/"
    },
    "id": "1PIa8wikgq45",
    "outputId": "ef3067dd-0016-403c-f6cc-bb48782a3ab0"
   },
   "outputs": [
    {
     "name": "stdout",
     "output_type": "stream",
     "text": [
      "0.16703999999999883\n"
     ]
    }
   ],
   "source": [
    "S = 3.14*10**2\n",
    "s = 3.14*(10-z_i)**2 * 2.9\n",
    "print(s/S)"
   ]
  },
  {
   "cell_type": "markdown",
   "metadata": {
    "id": "qB_NbW4xi27p"
   },
   "source": [
    "# №4"
   ]
  },
  {
   "cell_type": "code",
   "execution_count": null,
   "metadata": {
    "id": "V3KzspWwl5Pe"
   },
   "outputs": [],
   "source": [
    "from skimage import data\n",
    "from skimage.color import rgb2gray\n",
    "import matplotlib.pyplot as plt\n",
    "from numpy.linalg import svd"
   ]
  },
  {
   "cell_type": "code",
   "execution_count": null,
   "metadata": {
    "colab": {
     "base_uri": "https://localhost:8080/",
     "height": 310
    },
    "id": "T-zMgRpCi8FC",
    "outputId": "328a1485-0ee1-49b6-c95a-7e65f6721a04"
   },
   "outputs": [
    {
     "name": "stdout",
     "output_type": "stream",
     "text": [
      "[0 1 2 ... 8 9 8]\n"
     ]
    },
    {
     "data": {
      "text/plain": [
       "<Figure size 432x288 with 0 Axes>"
      ]
     },
     "metadata": {},
     "output_type": "display_data"
    },
    {
     "data": {
      "image/png": "[encoded data removed]",
      "text/plain": [
       "<Figure size 288x288 with 1 Axes>"
      ]
     },
     "metadata": {
      "needs_background": "light"
     },
     "output_type": "display_data"
    }
   ],
   "source": [
    "from sklearn.datasets import load_digits\n",
    "digits = load_digits()\n",
    "\n",
    "A = digits.data\n",
    "y = digits.target\n",
    "\n",
    "print(y)\n",
    "import matplotlib.pyplot as plt\n",
    "plt.gray()\n",
    "plt.matshow(digits.images[2])\n",
    "\n",
    "plt.show()"
   ]
  },
  {
   "cell_type": "code",
   "execution_count": null,
   "metadata": {
    "colab": {
     "base_uri": "https://localhost:8080/",
     "height": 791
    },
    "id": "5sVtoKYmpQ_r",
    "outputId": "29e4155f-e2b2-4cbb-d2ad-1aa47cc8a053"
   },
   "outputs": [
    {
     "data": {
      "image/png": "[encoded data removed]",
      "text/plain": [
       "<Figure size 288x288 with 1 Axes>"
      ]
     },
     "metadata": {
      "needs_background": "light"
     },
     "output_type": "display_data"
    },
    {
     "data": {
      "image/png": "[encoded data removed]",
      "text/plain": [
       "<Figure size 288x288 with 1 Axes>"
      ]
     },
     "metadata": {
      "needs_background": "light"
     },
     "output_type": "display_data"
    },
    {
     "data": {
      "image/png": "[encoded data removed]",
      "text/plain": [
       "<Figure size 288x288 with 1 Axes>"
      ]
     },
     "metadata": {
      "needs_background": "light"
     },
     "output_type": "display_data"
    }
   ],
   "source": [
    "from sklearn.preprocessing import StandardScaler\n",
    "A_std = StandardScaler().fit_transform(A)      \n",
    "for i in range(3):\n",
    "    B = A_std[i,:].reshape((8,8))\n",
    "    plt.matshow(B) \n",
    "    plt.show() "
   ]
  },
  {
   "cell_type": "code",
   "execution_count": null,
   "metadata": {
    "colab": {
     "base_uri": "https://localhost:8080/",
     "height": 513
    },
    "id": "Ghjxzw3WtPBH",
    "outputId": "219bc430-128c-4776-917f-3413f75a093c"
   },
   "outputs": [
    {
     "data": {
      "image/png": "[encoded data removed]",
      "text/plain": [
       "<Figure size 432x288 with 1 Axes>"
      ]
     },
     "metadata": {
      "needs_background": "light"
     },
     "output_type": "display_data"
    },
    {
     "data": {
      "image/png": "[encoded data removed]",
      "text/plain": [
       "<Figure size 432x288 with 1 Axes>"
      ]
     },
     "metadata": {
      "needs_background": "light"
     },
     "output_type": "display_data"
    }
   ],
   "source": [
    "numbers = [0, 1, 2, 3, 4, 5, 6, 7, 8, 9]        \n",
    "colors = ['red', 'green', 'blue', 'magenta', 'cyan', 'orange', 'black', 'yellow', 'purple', 'gray']\n",
    "\n",
    "rank = 2\n",
    "def inspect_projections(rank):\n",
    "  u, s, wh = np.linalg.svd(A_std)\n",
    "  projections = u[:,:rank] @ np.diag(s[:rank])\n",
    "  for number, color in zip(numbers, colors):\n",
    "        plt.scatter(projections[y==number, 0],\n",
    "                    projections[y==number, 1],\n",
    "                    label = number,\n",
    "                    c = color)\n",
    "  plt.legend(loc='best')\n",
    "  plt.grid()\n",
    "  plt.show()\n",
    "\n",
    "inspect_projections(2)\n",
    "inspect_projections(60)"
   ]
  },
  {
   "cell_type": "markdown",
   "metadata": {
    "id": "jcmyK1Lyiyfm"
   },
   "source": [
    "# №5"
   ]
  },
  {
   "cell_type": "code",
   "execution_count": null,
   "metadata": {
    "id": "odw1cgDh_SqW"
   },
   "outputs": [],
   "source": [
    "head = np.array([0.5, 0.4])\n",
    "\n",
    "def full(p_true, head):\n",
    "  return(p_true[0] * head[0] + p_true[1] * head[1])\n",
    "\n",
    "def prob(k, head, m):\n",
    "  prob = np.array([0.5, 0.5])\n",
    "  tail = np.array([1,1]) - np.array(head)\n",
    "  for i in range(m):  \n",
    "    if k[i] == 1:\n",
    "      prob = head*prob/full(prob, head) #Байес\n",
    "    \n",
    "    elif k[i] == 0:\n",
    "      prob = tail*prob /full(prob, tail)\n",
    "  return prob"
   ]
  },
  {
   "cell_type": "code",
   "execution_count": null,
   "metadata": {
    "colab": {
     "base_uri": "https://localhost:8080/"
    },
    "id": "wHthE7_n9QZs",
    "outputId": "371720a4-fb1d-4b86-ac44-55294081db5f"
   },
   "outputs": [
    {
     "data": {
      "text/plain": [
       "array([0.51020408, 0.48979592])"
      ]
     },
     "execution_count": 181,
     "metadata": {},
     "output_type": "execute_result"
    }
   ],
   "source": [
    "m = 2\n",
    "k = [1, 0]\n",
    "\n",
    "prob(k, head, m)"
   ]
  },
  {
   "cell_type": "code",
   "execution_count": null,
   "metadata": {
    "id": "hpcv9L27LWye"
   },
   "outputs": [],
   "source": [
    "def search(k, head, m):\n",
    "  if prob(k, head, m)[0] > prob(k, head, m)[1]:\n",
    "    p = 1 #настоящая \n",
    "  \n",
    "  elif prob(k, head, m)[0] < prob(k, head, m)[1]:\n",
    "    p = 0 #шулерская\n",
    "\n",
    "  return p"
   ]
  },
  {
   "cell_type": "code",
   "execution_count": null,
   "metadata": {
    "colab": {
     "base_uri": "https://localhost:8080/"
    },
    "id": "Yo6BGfbHVPro",
    "outputId": "ae821ecc-a6f9-4466-f079-1839be46152b"
   },
   "outputs": [
    {
     "data": {
      "text/plain": [
       "0"
      ]
     },
     "execution_count": 183,
     "metadata": {},
     "output_type": "execute_result"
    }
   ],
   "source": [
    "search([0, 1, 0, 0, 0], [0.5, 0.4], 5)"
   ]
  },
  {
   "cell_type": "code",
   "execution_count": null,
   "metadata": {
    "id": "VLJXGeiDVmvF"
   },
   "outputs": [],
   "source": [
    "#шулерские\n",
    "\n",
    "def false_coins(n, m):\n",
    "  y_pred_f = np.array([])\n",
    "  for i in range(n):\n",
    "    toss_ups = np.random.choice([0,1], size=m, p=[0.6, 0.4])\n",
    "    y_pred_f = np.append(y_pred_f, search(toss_ups, head, m))\n",
    "    i+=1\n",
    "  return y_pred_f\n",
    "\n",
    "#настоящие\n",
    "\n",
    "def true_coins(n, m):\n",
    "  y_pred_t = np.array([])\n",
    "  for i in range(n):\n",
    "    toss_ups = np.random.choice([0,1], size=m, p=[0.5, 0.5])\n",
    "    y_pred_t = np.append(y_pred_t, search(toss_ups, head, m))\n",
    "    i+=1\n",
    "  return y_pred_t\n",
    "\n"
   ]
  },
  {
   "cell_type": "code",
   "execution_count": null,
   "metadata": {
    "colab": {
     "base_uri": "https://localhost:8080/"
    },
    "id": "dYm63OAoahYR",
    "outputId": "99431938-df40-4c64-f175-44540f31c9ca"
   },
   "outputs": [
    {
     "name": "stdout",
     "output_type": "stream",
     "text": [
      "[1. 1. 1. 1. 1. 0. 0. 0. 0. 0.] [1. 0. 1. 0. 1. 1. 1. 1. 1. 0.]\n"
     ]
    },
    {
     "data": {
      "text/plain": [
       "array([[0.2, 0.8],\n",
       "       [0.4, 0.6]])"
      ]
     },
     "execution_count": 185,
     "metadata": {},
     "output_type": "execute_result"
    }
   ],
   "source": [
    "from sklearn.metrics import confusion_matrix\n",
    "\n",
    "n = 5\n",
    "y_pred = np.concatenate([true_coins(n, m), false_coins(n, m)])\n",
    "y_actu = np.ones(2*n)\n",
    "y_actu[n:] = 0\n",
    "print(y_actu, y_pred)\n",
    "conf_m = confusion_matrix(y_actu, y_pred)\n",
    "conf_m / conf_m.astype(np.float64).sum(axis=1)"
   ]
  },
  {
   "cell_type": "code",
   "execution_count": null,
   "metadata": {
    "colab": {
     "base_uri": "https://localhost:8080/"
    },
    "id": "Qmk4dfl4b7KO",
    "outputId": "c7a4d803-b4e9-4656-8186-a96bc56710da"
   },
   "outputs": [
    {
     "data": {
      "text/plain": [
       "0.25"
      ]
     },
     "execution_count": 186,
     "metadata": {},
     "output_type": "execute_result"
    }
   ],
   "source": [
    "P = conf_m[0,0] + conf_m[1,0]\n",
    "N = conf_m[0,1] + conf_m[1,1]\n",
    "TP = conf_m[0,0]\n",
    "FP = conf_m[0,1]\n",
    "FN = conf_m[1,0]\n",
    "TN = conf_m[1,1]\n",
    "\n",
    "\n",
    "accuracy = (TP + TN)/(P+N)\n",
    "error_rate = 1-accuracy\n",
    "FPR = FP/N\n",
    "TPR = TP/P\n",
    "precision = TP/(TP+FP)\n",
    "recall = TP/P\n",
    "F_measure = 2/(1/precision + 1/recall)\n",
    "\n",
    "F_measure "
   ]
  },
  {
   "cell_type": "code",
   "execution_count": null,
   "metadata": {
    "id": "4akdhhWGVceM"
   },
   "outputs": [],
   "source": [
    "def conf_matr(n, m):\n",
    "  y_pred = np.concatenate([true_coins(n, m), false_coins(n, m)])\n",
    "  y_actu = np.ones(2*n)\n",
    "  y_actu[n:] = 0\n",
    "\n",
    "  c = confusion_matrix(y_actu, y_pred)\n",
    "  return c\n"
   ]
  },
  {
   "cell_type": "code",
   "execution_count": null,
   "metadata": {
    "id": "w3cuZoipVYQz"
   },
   "outputs": [],
   "source": [
    "def F_measure(n, m):\n",
    "  TP = conf_matr(n, m)[0,0]\n",
    "  FP = conf_matr(n, m)[0,1]\n",
    "  FN = conf_matr(n, m)[1,0]\n",
    "  TN = conf_matr(n, m)[1,1]\n",
    "  P = TP + FN\n",
    "  N = TN + FP\n",
    "\n",
    "  precision = TP/(TP+FP)\n",
    "  recall = TP/P\n",
    "  F_measure = 2/(1/precision + 1/recall)\n",
    "  return F_measure\n"
   ]
  },
  {
   "cell_type": "code",
   "execution_count": null,
   "metadata": {
    "colab": {
     "base_uri": "https://localhost:8080/",
     "height": 265
    },
    "id": "Uu-264trXokw",
    "outputId": "1742402f-8894-4d94-a642-937f4799654f"
   },
   "outputs": [
    {
     "data": {
      "image/png": "[encoded data removed]",
      "text/plain": [
       "<Figure size 432x288 with 1 Axes>"
      ]
     },
     "metadata": {
      "needs_background": "light"
     },
     "output_type": "display_data"
    }
   ],
   "source": [
    "x = np.arange(1, 1000, 10)\n",
    "y = []\n",
    "n = 10\n",
    "for i in range(100):\n",
    "  m = x[i]\n",
    "  y.append(F_measure(n, int(m)))\n",
    "plt.plot(x, y)\n",
    "plt.show()"
   ]
  },
  {
   "cell_type": "markdown",
   "metadata": {
    "id": "bTFksSDpc7AH"
   },
   "source": [
    "# №3"
   ]
  },
  {
   "cell_type": "markdown",
   "metadata": {
    "id": "Ez95HMXmg3fh"
   },
   "source": [
    "Приблизим с помощью SVD. Видим, что ошибка уменьшается, когда ранг приближенной приближается к рангу исходной. (Взяла за А матрицу из 4 задачи)"
   ]
  },
  {
   "cell_type": "code",
   "execution_count": null,
   "metadata": {
    "colab": {
     "base_uri": "https://localhost:8080/"
    },
    "id": "MZROBc3Yc_Bz",
    "outputId": "ad95008c-1f1d-489a-d645-af85983f0d8f"
   },
   "outputs": [
    {
     "name": "stdout",
     "output_type": "stream",
     "text": [
      "61\n",
      "rank_std = 61\n",
      "rank = 55 error = 0.08691655393736734\n",
      "rank = 56 error = 0.07708519135203608\n",
      "rank = 57 error = 0.06681691241533934\n",
      "rank = 58 error = 0.055797093753602\n",
      "rank = 59 error = 0.043154469599048714\n",
      "rank = 60 error = 0.0287289217482666\n",
      "rank = 61 error = 2.266620322270403e-15\n"
     ]
    }
   ],
   "source": [
    "print(np.linalg.matrix_rank(A))\n",
    "A_std = StandardScaler().fit_transform(A)\n",
    "rank_std = np.linalg.matrix_rank(A_std)\n",
    "u, s, vh = np.linalg.svd(A_std)\n",
    "print('rank_std =', rank_std)\n",
    "for rank in range(55, rank_std+1):\n",
    "  Ar = u[:,:rank] @ np.diag(s[:rank]) @ vh[:rank,:]\n",
    "  err = np.linalg.norm(A_std - Ar)/np.linalg.norm(A_std)\n",
    "  print(\"rank =\", rank,\"error =\", err)"
   ]
  },
  {
   "cell_type": "markdown",
   "metadata": {
    "id": "yfe_K9uTiUiJ"
   },
   "source": [
    "Получаем, что К равен рангу матрицы, а векторы - правые и левые сингулярные векторы."
   ]
  },
  {
   "cell_type": "code",
   "execution_count": null,
   "metadata": {
    "colab": {
     "base_uri": "https://localhost:8080/"
    },
    "id": "2_H5r6YTkmYe",
    "outputId": "cb9cf975-5cd5-4516-ce0a-be3d3c73ebe9"
   },
   "outputs": [
    {
     "name": "stdout",
     "output_type": "stream",
     "text": [
      "[[ 1.66666366e-02 -9.32362498e-03  4.10144768e-02 ...  0.00000000e+00\n",
      "   0.00000000e+00  0.00000000e+00]\n",
      " [ 5.12812196e-03  9.03189445e-03 -4.07932970e-02 ... -6.98531518e-03\n",
      "  -1.04864722e-02 -3.18436489e-03]\n",
      " [ 1.13365672e-02 -3.09831829e-03 -3.14240558e-02 ... -1.86748751e-02\n",
      "  -1.51100027e-02  2.29663565e-02]\n",
      " ...\n",
      " [ 8.90351798e-03 -1.44480169e-03 -2.56725249e-02 ...  9.72210173e-01\n",
      "  -1.21463606e-05 -1.27490658e-02]\n",
      " [ 9.36897569e-03 -3.72071369e-03  2.55219521e-02 ...  7.34922199e-04\n",
      "   9.71177605e-01  7.74618521e-04]\n",
      " [-1.09505371e-02 -2.17592328e-02 -2.94798452e-03 ... -1.11317553e-02\n",
      "   4.66200063e-04  9.63814412e-01]] [[ 1.21482737e-18 -7.62433540e-19  3.56880226e-18 ...  0.00000000e+00\n",
      "   0.00000000e+00  1.00000000e+00]\n",
      " [-1.82233917e-01  4.70270076e-02 -2.35882143e-02 ... -1.14403068e-16\n",
      "  -4.51821722e-17 -2.83191000e-18]\n",
      " [-2.85867997e-01  5.95647953e-02  5.67987457e-02 ...  9.02488486e-17\n",
      "  -1.77307337e-16  5.03596637e-18]\n",
      " ...\n",
      " [-1.03198001e-01 -2.42617777e-01  2.22795243e-02 ...  1.31838984e-16\n",
      "  -2.14563610e-16  9.44646642e-18]\n",
      " [-1.19810604e-01 -1.65089262e-01 -1.00365586e-01 ...  1.11022302e-16\n",
      "   2.59124319e-17 -1.19101943e-17]\n",
      " [-7.14936163e-02 -7.13292370e-02 -9.24458865e-02 ...  8.32667268e-17\n",
      "  -7.37257477e-18  1.39873617e-18]]\n"
     ]
    }
   ],
   "source": [
    "print(u, vh.T)"
   ]
  }
 ],
 "metadata": {
  "colab": {
   "collapsed_sections": [],
   "provenance": []
  },
  "kernelspec": {
   "display_name": "Python 3 (ipykernel)",
   "language": "python",
   "name": "python3"
  },
  "language_info": {
   "codemirror_mode": {
    "name": "ipython",
    "version": 3
   },
   "file_extension": ".py",
   "mimetype": "text/x-python",
   "name": "python",
   "nbconvert_exporter": "python",
   "pygments_lexer": "ipython3",
   "version": "3.8.10"
  }
 },
 "nbformat": 4,
 "nbformat_minor": 1
}
