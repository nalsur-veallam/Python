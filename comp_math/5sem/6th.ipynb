{
 "cells": [
  {
   "cell_type": "markdown",
   "id": "ed50548a",
   "metadata": {},
   "source": [
    "# Sixth homework for computational mathematics course"
   ]
  },
  {
   "cell_type": "code",
   "execution_count": 2,
   "id": "0a60500d",
   "metadata": {},
   "outputs": [],
   "source": [
    "import numpy as np\n",
    "import pylab as plt\n",
    "import pandas as pd\n",
    "from scipy.optimize import minimize\n",
    "\n",
    "from sklearn.metrics import mean_squared_error as mse\n",
    "from sklearn.linear_model import LinearRegression\n",
    "from sklearn.model_selection import train_test_split, ShuffleSplit\n",
    "from sklearn.preprocessing import StandardScaler\n",
    "from sklearn.linear_model import Lasso, SGDRegressor"
   ]
  },
  {
   "cell_type": "markdown",
   "id": "9b8bc135",
   "metadata": {},
   "source": [
    "## Exercise 1"
   ]
  },
  {
   "cell_type": "markdown",
   "id": "4b73d84b",
   "metadata": {},
   "source": [
    "$$\n",
    "\\frac{\\partial log(P)}{\\partial \\sigma} = \\sum_i \\frac{\\partial log(p_i)}{\\partial \\sigma} = \\sum_i (\\frac{(x_i-\\mu)^2}{\\sigma^3} - \\frac{1}{\\sigma}) = 0\n",
    "$$\n",
    "$$\n",
    "\\frac{\\partial log(P)}{\\partial \\mu} = \\sum_i \\frac{\\partial log(p_i)}{\\partial \\mu} = \\sum_i \\frac{x_i-\\mu}{\\sigma^2} = 0\n",
    "$$\n",
    "\n",
    "$$\n",
    "\\mu = \\frac{\\sum_i x_i}{N}\n",
    "$$\n",
    "\n",
    "$$\n",
    "\\sigma = \\sqrt{\\frac{\\sum_i (x_i - \\mu)^2}{N}}\n",
    "$$"
   ]
  },
  {
   "cell_type": "markdown",
   "id": "221b46d7",
   "metadata": {},
   "source": [
    "## Exercise 2"
   ]
  },
  {
   "cell_type": "markdown",
   "id": "a0bcd3ac",
   "metadata": {},
   "source": [
    "$$\n",
    "P(\\lambda|m) = \\frac{P_{\\lambda}(m)\\cdot P(\\lambda)}{\\int P_{\\lambda'}(m)\\cdot P(\\lambda')d\\lambda'} = \\frac{\\frac{\\lambda^m}{m!}e^{-\\lambda}}{\\int\\frac{\\lambda^m}{m!}e^{-\\lambda}d\\lambda'} = \\frac{\\lambda^me^{-\\lambda}}{\\Gamma(m+1)} = \\frac{\\lambda^me^{-\\lambda}}{m!}\n",
    "$$\n",
    "$$\n",
    "P(\\lambda|m, m') = \\frac{P_{\\lambda}(m)\\cdot P_{\\lambda}(m')\\cdot P(\\lambda)}{\\int P_{\\lambda'}(m)\\cdot P_{\\lambda'}(m')\\cdot P(\\lambda')d\\lambda'} = \\frac{\\frac{\\lambda^{(m+m')}}{m!\\cdot m'!}e^{-2\\lambda}}{\\int\\frac{\\lambda^{(m+m')}}{m!\\cdot m'!}e^{-2\\lambda}d\\lambda'} =  2^{(m+m')}\\frac{\\lambda^{(m+m')}e^{-2\\lambda}}{(m+m')!}\n",
    "$$"
   ]
  },
  {
   "cell_type": "markdown",
   "id": "5d0f4f48",
   "metadata": {},
   "source": [
    "## Exercise 3"
   ]
  },
  {
   "cell_type": "markdown",
   "id": "805ea790",
   "metadata": {},
   "source": [
    "A - Petya is sick; B - test is positive:\n",
    "$$\n",
    "P(A|B) = \\frac{P(B|A)\\cdot P(A)}{P(B|A)\\cdot P(A) + P(B|!A)\\cdot P(!A)} = \\frac{0.99\\cdot10^{-5}}{0.99\\cdot10^{-5} + 0.01\\cdot(1-10^{-5})} = 0.1\\%\n",
    "$$"
   ]
  },
  {
   "cell_type": "markdown",
   "id": "66d624fe",
   "metadata": {},
   "source": [
    "## Exercise 4"
   ]
  },
  {
   "cell_type": "markdown",
   "id": "ca6132e4",
   "metadata": {},
   "source": [
    "$$\n",
    "P(A|x_1) = \\frac{P_{A}(x_1)\\cdot P(A)}{\\int P_{A'}(x_1)\\cdot P(A')dA'} = \\frac{e^{-\\frac{x_1^TAx_1}{2}}P(A')}{\\int e^{-\\frac{x_1^TA'x_1}{2}}\\cdot P(A')dA'} = \\frac{e^{-\\frac{x_1^TAx_1}{2}}}{\\int e^{-\\frac{x_1^TA'x_1}{2}}\\cdot dA'} = \\frac{e^{-\\frac{x_1^TAx_1}{2}}}{N\\int e^{-\\frac{\\xi_1(x_1^1)^2+...+\\xi_N(x_1^N)^2}{2}}\\cdot d\\xi_1...d\\xi_N} = \\frac{e^{-\\frac{x_1^TAx_1}{2}}\\prod_{i=1}^N(x_1^i)^2}{N\\cdot2^N}\n",
    "$$\n",
    "$$\n",
    "P(x|x_1) = \\int P(A'|x_1)P(x|A')dA' = \\int \\frac{e^{-\\frac{x^TAx}{2}}e^{-\\frac{x_1^TAx_1}{2}}\\prod_{i=1}^N(x_1^i)^2}{N\\cdot Z\\cdot2^N}dA' = \\frac{\\prod_{i=1}^N(x_1^i)^2}{Z\\cdot2^N}\\int e^{-\\frac{\\xi_1[(x_1^1)^2 + (x^1)^2]+...+\\xi_N[(x_1^N)^2 + (x^N)^2]}{2}}d\\xi_1...d\\xi_N = \\frac{\\prod_{i=1}^N(x_1^i)^2}{Z\\prod_{i=1}^N[(x_1^i)^2 + (x^i)^2]}\n",
    "$$"
   ]
  },
  {
   "cell_type": "markdown",
   "id": "e5a233b1",
   "metadata": {},
   "source": [
    "## Exercise 5"
   ]
  },
  {
   "cell_type": "code",
   "execution_count": 10,
   "id": "58e6092c",
   "metadata": {},
   "outputs": [],
   "source": [
    "theta = 1.24\n",
    "\n",
    "X = np.linspace(0, 3, 1000).reshape(-1, 1)\n",
    "Y = np.sin(theta*X)"
   ]
  },
  {
   "cell_type": "code",
   "execution_count": 13,
   "id": "b3ab5855",
   "metadata": {},
   "outputs": [],
   "source": [
    "def cross_val(cv, alphas, steps, X, Y):\n",
    "    best = []\n",
    "    \n",
    "    gd_mse = pd.DataFrame(columns=['alpha', 'step', 'mse', 'theta'])\n",
    "    \n",
    "    rs = ShuffleSplit(n_splits=cv, random_state=45)\n",
    "    for alpha in alphas:\n",
    "        for step in steps:\n",
    "            errors = []\n",
    "            ress = []\n",
    "            for Xtest_index in rs.split(X):\n",
    "                X_train, X_test = X[Xtest_index[0]], X[Xtest_index[1]]\n",
    "                y_train, y_test = Y[Xtest_index[0]], Y[Xtest_index[1]]\n",
    "                \n",
    "                fun = lambda theta: step*mse(y_train, np.sin(theta*X_train), squared=False) + step*alpha*np.abs(theta)\n",
    "                res = minimize(fun, 1, method='BFGS')\n",
    "                errors.append(mse(y_test, np.sin(res.x*X_test), squared=False))\n",
    "                ress.append(res.x)\n",
    "            new_row = pd.Series({'alpha': alpha, 'step': step, 'mse': min(errors), \n",
    "                                 'theta': np.array(ress)[np.where(errors==min(errors))]})\n",
    "            gd_mse = pd.concat([gd_mse, new_row.to_frame().T], ignore_index=True)\n",
    "    gd_mse = gd_mse.sort_values(by=['mse'], ascending=True, ignore_index=True)\n",
    "    return gd_mse.iloc[0]           "
   ]
  },
  {
   "cell_type": "code",
   "execution_count": 14,
   "id": "646e31de",
   "metadata": {},
   "outputs": [
    {
     "data": {
      "text/plain": [
       "alpha                  0.000258\n",
       "step                     0.0505\n",
       "mse                         0.0\n",
       "theta    [[1.2399999981798788]]\n",
       "Name: 0, dtype: object"
      ]
     },
     "execution_count": 14,
     "metadata": {},
     "output_type": "execute_result"
    }
   ],
   "source": [
    "cv = 3\n",
    "alphas = np.linspace(1e-5, 1e-3, 5)\n",
    "steps = np.linspace(1e-3, 1e-1, 5)\n",
    "cross_val(cv, alphas, steps, X, Y)"
   ]
  },
  {
   "cell_type": "markdown",
   "id": "0386ebe3",
   "metadata": {},
   "source": [
    "## Exercise 6"
   ]
  },
  {
   "cell_type": "code",
   "execution_count": 4,
   "id": "072eaf04",
   "metadata": {},
   "outputs": [],
   "source": [
    "df = pd.read_csv('./Steels_kaggle.csv')\n",
    "\n",
    "X = df[[' C', ' Si', ' Mn', ' P', ' S', ' Ni', ' Cr', ' Mo',\n",
    "       ' Cu', 'V', ' Al', ' N', ' Temperature (°C)']]\n",
    "Y = df[' 0.2% Proof Stress (MPa)']\n",
    "\n",
    "X_train, X_test, y_train, y_test = train_test_split(X, Y, test_size=0.2, random_state=42)\n",
    "\n",
    "scaler = StandardScaler()\n",
    "X_train = scaler.fit_transform(X_train)\n",
    "X_test = scaler.fit_transform(X_test)"
   ]
  },
  {
   "cell_type": "code",
   "execution_count": 6,
   "id": "f7af02e9",
   "metadata": {},
   "outputs": [
    {
     "data": {
      "image/png": "[encoded data removed]",
      "text/plain": [
       "<Figure size 432x288 with 1 Axes>"
      ]
     },
     "metadata": {
      "needs_background": "light"
     },
     "output_type": "display_data"
    }
   ],
   "source": [
    "alphas = np.linspace(1e-1, 100, 30)\n",
    "\n",
    "coefs = []\n",
    "\n",
    "for alpha in alphas:\n",
    "    lasso = Lasso(alpha)\n",
    "    lasso.fit(X_train, y_train)\n",
    "    coefs.append(lasso.coef_)\n",
    "    \n",
    "coefs = np.array(coefs).T\n",
    "\n",
    "for line in coefs:\n",
    "    plt.plot(alphas, line)\n",
    "\n",
    "plt.show()"
   ]
  },
  {
   "cell_type": "markdown",
   "id": "8329a282",
   "metadata": {},
   "source": [
    "## Exercise 7"
   ]
  },
  {
   "cell_type": "markdown",
   "id": "caeb23a4",
   "metadata": {},
   "source": [
    "$$\n",
    "|| y - Xw||_2 \\rightarrow min\n",
    "$$\n",
    "$$\n",
    "s.t. ||w||_1 \\leq C\n",
    "$$\n",
    "Lagrange multipliers method:\n",
    "$$\n",
    "L(w, \\lambda) = ||y - Xw||_2 - \\lambda(C - ||w||_1)\n",
    "$$\n",
    "The original problem is dual to the following problem:\n",
    "$$\n",
    "g(\\lambda) = \\max_{\\lambda > 0} \\left[\\min_{\\omega}\\left(||y - Xw||_2 + \\lambda ||w||_1\\right) - \\lambda C\\right]\n",
    "$$\n",
    "which is equivalent to\n",
    "$$\n",
    "\\max_{\\lambda > 0}\\min_{\\omega}\\left(||y - Xw||_2 + \\lambda ||w||_1 - \\lambda C\\right)\n",
    "$$\n",
    "which is equivalent to\n",
    "$$\n",
    "\\min_{\\omega}\\max_{\\lambda > 0}\\left(||y - Xw||_2 + \\lambda ||w||_1 - \\lambda C\\right)\n",
    "$$\n",
    "Finally, for some lambda, the task turned into\n",
    "$$\n",
    "\\min_{\\omega}\\left(||y - Xw||_2 + \\lambda ||w||_1 - \\lambda C\\right)\n",
    "$$\n",
    "which is equivalent to\n",
    "$$\n",
    "\\min_{\\omega}\\left(||y - Xw||_2 + \\lambda ||w||_1\\right)\n",
    "$$"
   ]
  },
  {
   "cell_type": "code",
   "execution_count": null,
   "id": "7dfd1428",
   "metadata": {},
   "outputs": [],
   "source": []
  }
 ],
 "metadata": {
  "kernelspec": {
   "display_name": "Python 3 (ipykernel)",
   "language": "python",
   "name": "python3"
  },
  "language_info": {
   "codemirror_mode": {
    "name": "ipython",
    "version": 3
   },
   "file_extension": ".py",
   "mimetype": "text/x-python",
   "name": "python",
   "nbconvert_exporter": "python",
   "pygments_lexer": "ipython3",
   "version": "3.8.10"
  }
 },
 "nbformat": 4,
 "nbformat_minor": 5
}
