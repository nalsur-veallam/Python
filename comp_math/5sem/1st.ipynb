{
 "cells": [
  {
   "cell_type": "markdown",
   "metadata": {},
   "source": [
    "# First homework for computational mathematics course (06.09.2022)"
   ]
  },
  {
   "cell_type": "code",
   "execution_count": 2,
   "metadata": {},
   "outputs": [],
   "source": [
    "import numpy as np\n",
    "import pylab as plt\n",
    "import time"
   ]
  },
  {
   "cell_type": "markdown",
   "metadata": {},
   "source": [
    "## Exercise 1"
   ]
  },
  {
   "cell_type": "code",
   "execution_count": 3,
   "metadata": {},
   "outputs": [
    {
     "name": "stdout",
     "output_type": "stream",
     "text": [
      "[[0. 0. 0. 0. 0.]\n",
      " [0. 0. 0. 0. 0.]\n",
      " [0. 0. 0. 0. 0.]\n",
      " [0. 0. 0. 0. 0.]\n",
      " [0. 0. 0. 0. 0.]\n",
      " [0. 0. 0. 0. 0.]\n",
      " [1. 1. 1. 1. 1.]\n",
      " [1. 1. 1. 1. 1.]\n",
      " [1. 1. 1. 1. 1.]\n",
      " [1. 1. 1. 1. 1.]\n",
      " [1. 1. 1. 1. 1.]\n",
      " [1. 1. 1. 1. 1.]\n",
      " [1. 1. 1. 1. 1.]\n",
      " [1. 1. 1. 1. 1.]\n",
      " [1. 1. 1. 1. 1.]\n",
      " [1. 1. 1. 1. 1.]]\n"
     ]
    }
   ],
   "source": [
    "size = 5\n",
    "size_a = 6\n",
    "size_b = 10\n",
    "\n",
    "a = np.zeros((size,size_a)).T\n",
    "b = np.ones((size, size_b)).T\n",
    "\n",
    "c = np.concatenate((a,b), axis=0)\n",
    "print(c)"
   ]
  },
  {
   "cell_type": "code",
   "execution_count": 55,
   "metadata": {},
   "outputs": [
    {
     "name": "stdout",
     "output_type": "stream",
     "text": [
      "[0.08861063 0.69607874 0.99928825 0.9880416  0.38093266 0.89173785\n",
      " 0.68487444 0.82541867 0.35943317 0.11064091]\n"
     ]
    }
   ],
   "source": [
    "mat_size = 6\n",
    "vec_size = 10\n",
    "M = np.random.rand(mat_size,mat_size)\n",
    "a = np.random.choice(np.arange(0,mat_size), size=vec_size)\n",
    "b = np.random.choice(np.arange(0,mat_size), size=vec_size)\n",
    "\n",
    "A = M[a,b]\n",
    "print(A)"
   ]
  },
  {
   "cell_type": "code",
   "execution_count": 4,
   "metadata": {},
   "outputs": [
    {
     "ename": "NameError",
     "evalue": "name 'vec_size' is not defined",
     "output_type": "error",
     "traceback": [
      "\u001b[0;31m---------------------------------------------------------------------------\u001b[0m",
      "\u001b[0;31mNameError\u001b[0m                                 Traceback (most recent call last)",
      "Input \u001b[0;32mIn [4]\u001b[0m, in \u001b[0;36m<cell line: 2>\u001b[0;34m()\u001b[0m\n\u001b[1;32m      1\u001b[0m size \u001b[38;5;241m=\u001b[39m \u001b[38;5;241m5\u001b[39m\n\u001b[0;32m----> 2\u001b[0m M \u001b[38;5;241m=\u001b[39m np\u001b[38;5;241m.\u001b[39mrandom\u001b[38;5;241m.\u001b[39mchoice(np\u001b[38;5;241m.\u001b[39marange(\u001b[38;5;241m0\u001b[39m,\u001b[38;5;241m1\u001b[39m), size\u001b[38;5;241m=\u001b[39m\u001b[43mvec_size\u001b[49m)\n\u001b[1;32m      4\u001b[0m trace \u001b[38;5;241m=\u001b[39m np\u001b[38;5;241m.\u001b[39mtrace(M)\n\u001b[1;32m      5\u001b[0m M[M \u001b[38;5;241m!=\u001b[39m \u001b[38;5;241m0\u001b[39m] \u001b[38;5;241m=\u001b[39m \u001b[38;5;241m1\u001b[39m\n",
      "\u001b[0;31mNameError\u001b[0m: name 'vec_size' is not defined"
     ]
    }
   ],
   "source": [
    "size = 5\n",
    "M = np.random.rand(size,size)\n",
    "\n",
    "trace = np.trace(M)\n",
    "M[M != 0] = 1\n",
    "not_null = np.trace(M)\n",
    "print(trace, not_null)"
   ]
  },
  {
   "cell_type": "code",
   "execution_count": 10,
   "metadata": {},
   "outputs": [
    {
     "name": "stdout",
     "output_type": "stream",
     "text": [
      "[0 1] [62 58]\n"
     ]
    }
   ],
   "source": [
    "shape = (4,6,5)\n",
    "M = np.random.choice([0,1], size=shape)\n",
    "\n",
    "unique, counts = np.unique(M, return_counts=True)\n",
    "print(unique, counts)"
   ]
  },
  {
   "cell_type": "code",
   "execution_count": 58,
   "metadata": {},
   "outputs": [
    {
     "name": "stdout",
     "output_type": "stream",
     "text": [
      "[[ 1  1  1  1  1 -1]\n",
      " [-1 -1  1  1 -1  1]\n",
      " [ 1  1 -1  1  1 -1]\n",
      " [-1 -1  1 -1  1  1]\n",
      " [-1 -1  1  1 -1  1]] [[1. 1. 1. 1. 1. 0.]\n",
      " [0. 0. 1. 1. 0. 1.]\n",
      " [1. 1. 0. 1. 1. 0.]\n",
      " [0. 0. 1. 0. 1. 1.]\n",
      " [0. 0. 1. 1. 0. 1.]]\n"
     ]
    }
   ],
   "source": [
    "n = 5\n",
    "m = 6\n",
    "A = np.random.choice([-1, 1], size=(n, m))\n",
    "B = np.ones((n, m))\n",
    "\n",
    "B[A < 0] = 0\n",
    "print(A, B)"
   ]
  },
  {
   "cell_type": "code",
   "execution_count": 15,
   "metadata": {},
   "outputs": [
    {
     "name": "stderr",
     "output_type": "stream",
     "text": [
      "/tmp/ipykernel_168016/1124651624.py:8: RuntimeWarning: invalid value encountered in true_divide\n",
      "  L = N/np.sqrt(np.sum(N**2, axis=0))\n"
     ]
    },
    {
     "data": {
      "text/plain": [
       "array([[-0.5673859 ,  0.35814411,  0.        ,  0.        ],\n",
       "       [-0.22479001, -0.81452433,  0.        ,  0.        ],\n",
       "       [ 0.79217592,  0.45638022,  0.        ,  0.        ]])"
      ]
     },
     "execution_count": 15,
     "metadata": {},
     "output_type": "execute_result"
    }
   ],
   "source": [
    "n = 3\n",
    "m = 2\n",
    "M = np.random.rand(n, m)\n",
    "M = np.concatenate((M, np.zeros((3,2))), axis=1)\n",
    "                   \n",
    "\n",
    "N = M - np.mean(M, axis=0)\n",
    "L = N/np.sqrt(np.sum(N**2, axis=0))\n",
    "L = np.nan_to_num(L)\n",
    "L"
   ]
  },
  {
   "cell_type": "code",
   "execution_count": 21,
   "metadata": {},
   "outputs": [
    {
     "data": {
      "text/plain": [
       "array([[1.37769158, 0.62034848],\n",
       "       [0.75288296, 0.79193578]])"
      ]
     },
     "execution_count": 21,
     "metadata": {},
     "output_type": "execute_result"
    }
   ],
   "source": [
    "n = 3\n",
    "m = 2\n",
    "M = np.random.rand(n, m)\n",
    "N = np.random.rand(n, m)\n",
    "\n",
    "K = np.dot(M.T, N)\n",
    "K"
   ]
  },
  {
   "cell_type": "code",
   "execution_count": 19,
   "metadata": {},
   "outputs": [
    {
     "data": {
      "image/png": "[encoded data removed]",
      "text/plain": [
       "<Figure size 432x288 with 1 Axes>"
      ]
     },
     "metadata": {
      "needs_background": "light"
     },
     "output_type": "display_data"
    }
   ],
   "source": [
    "Nmax_numpy = 100\n",
    "Nmax_for = 100\n",
    "\n",
    "time_numpy = []\n",
    "time_for = []\n",
    "\n",
    "for i in range(1, Nmax_numpy+1):\n",
    "    K = np.random.rand(i, i)\n",
    "    L = np.random.rand(i, i)\n",
    "    start_numpy = time.time()\n",
    "    M = np.dot(K, L)\n",
    "    end_numpy = time.time()\n",
    "    \n",
    "    time_numpy.append(end_numpy - start_numpy)\n",
    "    \n",
    "for i in range(1, Nmax_for+1):\n",
    "    K = np.random.rand(i, i)\n",
    "    L = np.random.rand(i, i)\n",
    "    M = np.zeros((i, i))\n",
    "    start_for = time.time()\n",
    "    for j in range(i):\n",
    "        for k in range(i):\n",
    "            for l in range(i):\n",
    "                M[j][k] += K[j][l]*L[l][k]\n",
    "    end_for = time.time()\n",
    "    \n",
    "    time_for.append(end_for - start_for)\n",
    "    \n",
    "plt.plot(time_numpy, c='r', lw=3, label='Numpy')\n",
    "plt.grid()\n",
    "plt.xlabel('N')\n",
    "plt.ylabel('time (seconds)')\n",
    "plt.plot(time_for, c='b', lw=3, label='For')\n",
    "plt.legend()\n",
    "plt.yscale('log')\n",
    "plt.show()"
   ]
  },
  {
   "cell_type": "markdown",
   "metadata": {},
   "source": [
    "## Exercise 2"
   ]
  },
  {
   "cell_type": "code",
   "execution_count": 20,
   "metadata": {},
   "outputs": [
    {
     "data": {
      "text/plain": [
       "<function matplotlib.pyplot.show(close=None, block=None)>"
      ]
     },
     "execution_count": 20,
     "metadata": {},
     "output_type": "execute_result"
    },
    {
     "data": {
      "image/png": "[encoded data removed]",
      "text/plain": [
       "<Figure size 432x288 with 4 Axes>"
      ]
     },
     "metadata": {
      "needs_background": "light"
     },
     "output_type": "display_data"
    }
   ],
   "source": [
    "x1 = np.cos(np.arange(-np.pi, np.pi, np.pi/100))\n",
    "x2 = np.sin(np.arange(-np.pi, np.pi, np.pi/100))\n",
    "\n",
    "\n",
    "fig, axs = plt.subplots(2, 2)\n",
    "axs[0][0].plot(x1)\n",
    "axs[0][1].plot(x2)\n",
    "axs[1][0].plot(x1, x2)\n",
    "axs[1][1].plot(x2, x1)\n",
    "axs[0][1].set_title(\"Title\")\n",
    "plt.show"
   ]
  },
  {
   "cell_type": "code",
   "execution_count": 35,
   "metadata": {},
   "outputs": [
    {
     "data": {
      "image/png": "[encoded data removed]",
      "text/plain": [
       "<Figure size 432x288 with 1 Axes>"
      ]
     },
     "metadata": {
      "needs_background": "light"
     },
     "output_type": "display_data"
    },
    {
     "data": {
      "image/png": "[encoded data removed]",
      "text/plain": [
       "<Figure size 432x288 with 1 Axes>"
      ]
     },
     "metadata": {
      "needs_background": "light"
     },
     "output_type": "display_data"
    }
   ],
   "source": [
    "x = np.arange(1, 100)\n",
    "y = x**5\n",
    "fig, ax = plt.subplots()\n",
    "\n",
    "ax.plot(x, y)\n",
    "ax.set_yscale('log')\n",
    "ax.set_xscale('log')\n",
    "plt.show()\n",
    "\n",
    "plt.plot(x, y)\n",
    "plt.show()"
   ]
  },
  {
   "cell_type": "markdown",
   "metadata": {},
   "source": [
    "## Exercise 3"
   ]
  },
  {
   "cell_type": "code",
   "execution_count": 22,
   "metadata": {},
   "outputs": [
    {
     "data": {
      "text/plain": [
       "<ErrorbarContainer object of 3 artists>"
      ]
     },
     "execution_count": 22,
     "metadata": {},
     "output_type": "execute_result"
    },
    {
     "data": {
      "image/png": "[encoded data removed]",
      "text/plain": [
       "<Figure size 432x288 with 1 Axes>"
      ]
     },
     "metadata": {
      "needs_background": "light"
     },
     "output_type": "display_data"
    }
   ],
   "source": [
    "N = 250\n",
    "k = 20\n",
    "nbins = 50\n",
    "\n",
    "M = np.random.normal(0, 1, (N, N))\n",
    "M = M.T + M\n",
    "W = np.linalg.eigvals(M)\n",
    "HISTS = []\n",
    "hist, bins = np.histogram(W, bins=nbins)\n",
    "HISTS.append(hist)\n",
    "    \n",
    "for i in range(k):\n",
    "    M = np.random.normal(0, 1, (N, N))\n",
    "    M = M.T + M\n",
    "    w = np.linalg.eigvals(M)\n",
    "    W = np.concatenate((W,w))\n",
    "    hist, bins = np.histogram(w, bins=nbins)\n",
    "    HISTS.append(hist)\n",
    "\n",
    "error = np.std(HISTS, axis=0)/N\n",
    "plt.hist(W, bins=nbins, density=True)\n",
    "\n",
    "hist, bins = np.histogram(W, bins=nbins, density=True)\n",
    "bins = 0.5 * (bins[1:] + bins[:-1])\n",
    "plt.errorbar(bins, hist, yerr=error, marker='o', markersize=4, \n",
    "             linestyle='none', ecolor='k', elinewidth=0.8,\n",
    "             capsize=3, capthick=1)"
   ]
  },
  {
   "cell_type": "code",
   "execution_count": null,
   "metadata": {},
   "outputs": [],
   "source": []
  }
 ],
 "metadata": {
  "kernelspec": {
   "display_name": "Python 3 (ipykernel)",
   "language": "python",
   "name": "python3"
  },
  "language_info": {
   "codemirror_mode": {
    "name": "ipython",
    "version": 3
   },
   "file_extension": ".py",
   "mimetype": "text/x-python",
   "name": "python",
   "nbconvert_exporter": "python",
   "pygments_lexer": "ipython3",
   "version": "3.8.10"
  }
 },
 "nbformat": 4,
 "nbformat_minor": 1
}
