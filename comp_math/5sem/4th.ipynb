{
 "cells": [
  {
   "cell_type": "markdown",
   "id": "2f23b9e5",
   "metadata": {},
   "source": [
    "# Fourth homework for computational mathematics course"
   ]
  },
  {
   "cell_type": "code",
   "execution_count": 1,
   "id": "1043809e",
   "metadata": {},
   "outputs": [],
   "source": [
    "import numpy as np\n",
    "import pylab as plt\n",
    "import random\n",
    "import time"
   ]
  },
  {
   "cell_type": "markdown",
   "id": "a097b719",
   "metadata": {},
   "source": [
    "## Eexrsice 1"
   ]
  },
  {
   "cell_type": "code",
   "execution_count": 25,
   "id": "1e7f4efb",
   "metadata": {},
   "outputs": [],
   "source": [
    "def matrix_generate(rows, columns, type_ = \"full\", eps = 0):\n",
    "    \"\"\"\n",
    "    matrix_generate(rows, columns, type_ = \"full\")\n",
    "    \n",
    "    Создаёт случайную матрицу выбранного типа. \n",
    "    \n",
    "    Если матрицу нужных размеров создать нельзя должен выдать\n",
    "    строку f\"Error with type {type_} and shape ({rows},{columns})\".\n",
    "    \n",
    "    Parameters\n",
    "    ----------\n",
    "    \n",
    "    rows : int\n",
    "        Количество строк в создаваемой матрице.\n",
    "    columns : int\n",
    "        Количество столбцов в создаваемой матрице.\n",
    "    type_ : str, optional\n",
    "        Тип создаваемой матрицы: \"full\", \"upper_triangular\", \"symmetric\" и т.д.\n",
    "    eps: float, optional\n",
    "        Дополнительное число, использующееся при генерации для некоторых типов матриц.\n",
    "    \n",
    "    Returns\n",
    "    -------\n",
    "    out : ndarray or str\n",
    "        Выдаёт матрицу нужного типа либо ошибку.\n",
    "        \n",
    "    Notes\n",
    "    -----\n",
    "    Поддерживаемые типы матриц:\n",
    "        \"full\",\"upper_triangular\",\n",
    "        \"symmetric\",\n",
    "        ...\n",
    "    \n",
    "    \n",
    "    \"\"\"\n",
    "    \n",
    "    if type_ == \"full\":\n",
    "        return np.random.random(size=(rows, columns))\n",
    "        \n",
    "    elif type_ == \"upper_triangular\":\n",
    "        A = np.random.random(size=(rows, columns))\n",
    "\n",
    "        for i in range(rows):\n",
    "            for j in range(columns):\n",
    "                if (i > j):\n",
    "                    A[i, j] = 0\n",
    "        return A\n",
    "    \n",
    "    elif type_ == \"lower_triangular\":\n",
    "        A = np.random.random(size=(rows, columns))\n",
    "\n",
    "        for i in range(rows):\n",
    "            for j in range(columns):\n",
    "                if (i < j):\n",
    "                    A[i, j] = 0\n",
    "        return A\n",
    "        \n",
    "    elif type_ == \"symmetric\":\n",
    "        A = np.random.random(size=(rows, columns))\n",
    "        return A + A.T\n",
    "    \n",
    "    elif type_ == \"diagonal\":\n",
    "        return np.diag(np.random.rand(rows))\n",
    "    \n",
    "    elif type_ == \"degenerate\":\n",
    "        rank = min(rows, columns)//2\n",
    "        if rows >= columns:\n",
    "            A = np.random.random(size=(rows, columns-rank))\n",
    "            B = A[:, :rank-1]\n",
    "            A = np.concatenate((A, B), axis=1)\n",
    "        else:\n",
    "            A = np.random.random(size=(rows-rank, columns))\n",
    "            B = A[:rank-1, :]\n",
    "            A = np.concatenate((A, B), axis=0)\n",
    "        return A\n",
    "    \n",
    "    elif type_ == \"perturbation\":\n",
    "        A = np.random.random(size=(rows, columns))\n",
    "        return eps * A\n",
    "    \n",
    "    elif type_ == \"step\":\n",
    "        A = matrix_generate(columns, rows-columns, type_ = \"upper_triangular\", eps = 0)\n",
    "        B = matrix_generate(columns, columns, type_ = \"full\", eps = 0)\n",
    "        C = np.zeros((rows-columns, rows))\n",
    "        return np.concatenate((np.concatenate((A, B), axis=1), C), axis=0)"
   ]
  },
  {
   "cell_type": "code",
   "execution_count": 26,
   "id": "a26141a7",
   "metadata": {},
   "outputs": [
    {
     "data": {
      "text/plain": [
       "array([[0.69133751, 0.30107058, 0.96534427],\n",
       "       [0.        , 0.36307549, 0.44869703],\n",
       "       [0.        , 0.        , 0.        ]])"
      ]
     },
     "execution_count": 26,
     "metadata": {},
     "output_type": "execute_result"
    }
   ],
   "source": [
    "A = matrix_generate(3, 2, type_ = \"step\", eps = 0.5)\n",
    "A"
   ]
  },
  {
   "cell_type": "code",
   "execution_count": 28,
   "id": "d731afe4",
   "metadata": {},
   "outputs": [
    {
     "name": "stdout",
     "output_type": "stream",
     "text": [
      "0 0 0 0 0 1.0000000000000007 0 0\n"
     ]
    }
   ],
   "source": [
    "size = 10\n",
    "a, b, c, d, e, f, g, h = 0, 0, 0, 0, 0, 0, 0, 0\n",
    "\n",
    "for i in range(1000):\n",
    "    A = matrix_generate(size, size, type_ = \"full\", eps = 0.5)\n",
    "    B = matrix_generate(size, size, type_ = \"upper_triangular\", eps = 0.5)\n",
    "    C = matrix_generate(size, size, type_ = \"lower_triangular\", eps = 0.5)\n",
    "    D = matrix_generate(size, size, type_ = \"symmetric\", eps = 0.5)\n",
    "    E = matrix_generate(size, size, type_ = \"diagonal\", eps = 0.5)\n",
    "    F = matrix_generate(size, size, type_ = \"degenerate\", eps = 0.5)\n",
    "    G = matrix_generate(size, size, type_ = \"perturbation\", eps = 0.5)\n",
    "    H = matrix_generate(size, size, type_ = \"step\", eps = 0.5)\n",
    "    \n",
    "    if np.linalg.matrix_rank(A) < size:\n",
    "        a += 0.001\n",
    "    if np.linalg.matrix_rank(B) < size:\n",
    "        b += 0.001\n",
    "    if np.linalg.matrix_rank(C) < size:\n",
    "        c += 0.001\n",
    "    if np.linalg.matrix_rank(D) < size:\n",
    "        d += 0.001\n",
    "    if np.linalg.matrix_rank(E) < size:\n",
    "        e += 0.001\n",
    "    if np.linalg.matrix_rank(F) < size:\n",
    "        f += 0.001\n",
    "    if np.linalg.matrix_rank(G) < size:\n",
    "        g += 0.001\n",
    "    if np.linalg.matrix_rank(H) < size:\n",
    "        h += 0.001\n",
    "        \n",
    "print(a, b, c, d, e, f, g, h)"
   ]
  },
  {
   "cell_type": "code",
   "execution_count": null,
   "id": "028d55d4",
   "metadata": {},
   "outputs": [],
   "source": []
  },
  {
   "cell_type": "code",
   "execution_count": null,
   "id": "9e9149f6",
   "metadata": {},
   "outputs": [],
   "source": []
  },
  {
   "cell_type": "markdown",
   "id": "cb1d8800",
   "metadata": {},
   "source": [
    "## Exercise 2"
   ]
  },
  {
   "cell_type": "code",
   "execution_count": 3,
   "id": "e1845087",
   "metadata": {},
   "outputs": [
    {
     "name": "stdout",
     "output_type": "stream",
     "text": [
      "Vector l1 norm:  54.70617066061566\n",
      "Vector l2 norm:  6.084793658612598\n",
      "Vector inf norm:  0.9832817555442266\n",
      "Matrix l1 norm:  56.91250477881499\n",
      "Matrix l2 norm:  50.2246219102942\n",
      "Matrix inf norm:  57.204152699533395\n",
      "6160.853874337608\n"
     ]
    }
   ],
   "source": [
    "x = np.random.rand(100)\n",
    "M = np.random.rand(100, 100)\n",
    "\n",
    "def L1_vec (x):\n",
    "    return np.sum(np.abs(x))\n",
    "\n",
    "def L2_vec (x):\n",
    "    return np.sqrt(np.sum(x**2))\n",
    "\n",
    "def Inf_vec (x):\n",
    "    return np.max(np.abs(x))\n",
    "\n",
    "def L1_mat (x):\n",
    "    return Inf_mat(x.T)\n",
    "\n",
    "def L2_mat (x):\n",
    "    return np.sqrt(np.max(np.linalg.eigvals(x.T@x)))\n",
    "\n",
    "def Inf_mat (x):\n",
    "    return np.max(np.sum(np.abs(x), axis=0))\n",
    "\n",
    "def mu(x, norm):\n",
    "    return norm(x)*norm(np.linalg.inv(x))\n",
    "    \n",
    "                   \n",
    "\n",
    "print('Vector l1 norm: ', L1_vec(x))\n",
    "print('Vector l2 norm: ', L2_vec(x))\n",
    "print('Vector inf norm: ', Inf_vec(x))\n",
    "print('Matrix l1 norm: ', L1_mat(M))\n",
    "print('Matrix l2 norm: ', L2_mat(M))\n",
    "print('Matrix inf norm: ', Inf_mat(M))\n",
    "print(mu(M, Inf_mat))"
   ]
  },
  {
   "cell_type": "markdown",
   "id": "10c25138",
   "metadata": {},
   "source": [
    "## Exercise 3"
   ]
  },
  {
   "cell_type": "code",
   "execution_count": 5,
   "id": "ee4923bc",
   "metadata": {},
   "outputs": [],
   "source": [
    "def Gauss(matrix):\n",
    "#     boolin = False\n",
    "#     if np.shape(matrix)[0] > np.shape(matrix)[1]:\n",
    "#         boolin = True\n",
    "#         matrix = matrix.T\n",
    "        \n",
    "    for nrow in range(np.min([np.shape(matrix)[0], np.shape(matrix)[1]])):\n",
    "        # nrow равен номеру строки\n",
    "        # np.argmax возвращает номер строки с максимальным элементом в уменьшенной матрице\n",
    "        # которая начинается со строки nrow. Поэтому нужно прибавить nrow к результату\n",
    "        pivot = nrow + np.argmax(abs(matrix[nrow:, nrow]))\n",
    "        if pivot != nrow:\n",
    "            # swap\n",
    "            # matrix[nrow], matrix[pivot] = matrix[pivot], matrix[nrow] - не работает.\n",
    "            # нужно переставлять строки именно так, как написано ниже\n",
    "            matrix[[nrow, pivot]] = matrix[[pivot, nrow]]\n",
    "        row = matrix[nrow]\n",
    "        divider = row[nrow] # диагональный элемент\n",
    "        if abs(divider) != 0:\n",
    "            # почти нуль на диагонали. Продолжать не имеет смысла, результат счёта неустойчив\n",
    "        # делим на диагональный элемент.\n",
    "            row /= divider\n",
    "            # теперь надо вычесть приведённую строку из всех нижележащих строчек\n",
    "            for lower_row in matrix[nrow+1:]:\n",
    "                factor = lower_row[nrow] # элемент строки в колонке nrow\n",
    "                lower_row -= factor*row # вычитаем, чтобы получить ноль в колонке nrow\n",
    "    # приводим к диагональному виду\n",
    "    make_identity(matrix)\n",
    "    \n",
    "#     if boolin:\n",
    "#         matrix = matrix.T\n",
    "#         mat = []\n",
    "#         for nrow in range(np.shape(matrix)[0] - np.shape(matrix)[1]):\n",
    "#             mat.append(matrix[len(matrix) - 1 - nrow])\n",
    "#         for nrow in range(np.shape(matrix)[1]):\n",
    "#             mat.append(matrix[nrow])\n",
    "#         matrix = np.array(mat)\n",
    "    return matrix\n",
    "\n",
    "def with_rang(size_x, size_y, rang):\n",
    "    gen = np.random.rand(rang, rang)\n",
    "    for i in range(size_y - rang):\n",
    "        vec = random.random() * gen[:, 0]\n",
    "        for j in range(1, rang):\n",
    "            vec += random.random() * gen[:, i]\n",
    "        gen = np.concatenate((gen, vec.reshape(rang, 1)), axis=1)\n",
    "        \n",
    "    for i in range(size_x - rang):\n",
    "        vec = random.random() * gen[0, :]\n",
    "        for j in range(1, rang):\n",
    "            vec += random.random() * gen[i, :]\n",
    "        gen = np.concatenate((gen, vec.reshape(1, size_y)), axis=0)\n",
    "    \n",
    "    return gen\n",
    "\n",
    "def rank(A):\n",
    "    A = Gauss(A)\n",
    "    A = Gauss(A.T)\n",
    "    return np.sum(np.sum(A))\n",
    "\n",
    "def make_identity(matrix):\n",
    "    for nrow in range(np.min([np.shape(matrix)[0], np.shape(matrix)[1]])-1,0,-1):\n",
    "        row = matrix[nrow]\n",
    "        for upper_row in matrix[:nrow]:\n",
    "            factor = upper_row[nrow]\n",
    "            upper_row -= factor*row\n",
    "    return matrix"
   ]
  },
  {
   "cell_type": "code",
   "execution_count": 6,
   "id": "e6af1dd9",
   "metadata": {},
   "outputs": [
    {
     "data": {
      "text/plain": [
       "array([[ 1.,  0.,  0.,  0.],\n",
       "       [ 0.,  1.,  0.,  0.],\n",
       "       [ 0.,  0.,  1.,  0.],\n",
       "       [-0., -0., -0.,  1.],\n",
       "       [ 0.,  0.,  0.,  0.],\n",
       "       [ 0.,  0.,  0.,  0.],\n",
       "       [ 0.,  0.,  0.,  0.]])"
      ]
     },
     "execution_count": 6,
     "metadata": {},
     "output_type": "execute_result"
    }
   ],
   "source": [
    "M = np.random.rand(2,2)\n",
    "L = np.random.rand(7,4)\n",
    "N = np.concatenate((M, M), axis=1)\n",
    "Gauss(L)"
   ]
  },
  {
   "cell_type": "markdown",
   "id": "6d1fc7aa",
   "metadata": {},
   "source": [
    "## Exercise 4"
   ]
  },
  {
   "cell_type": "code",
   "execution_count": 9,
   "id": "123364e7",
   "metadata": {},
   "outputs": [],
   "source": [
    "def makeTrianglePivot(matrix):\n",
    "    for nrow in range(len(matrix)):\n",
    "        # nrow равен номеру строки\n",
    "        # np.argmax возвращает номер строки с максимальным элементом в уменьшенной матрице\n",
    "        # которая начинается со строки nrow. Поэтому нужно прибавить nrow к результату\n",
    "        pivot = nrow + np.argmax(abs(matrix[nrow:, nrow]))\n",
    "        if pivot != nrow:\n",
    "            # swap\n",
    "            # matrix[nrow], matrix[pivot] = matrix[pivot], matrix[nrow] - не работает.\n",
    "            # нужно переставлять строки именно так, как написано ниже\n",
    "            # matrix[[nrow, pivot]] = matrix[[pivot, nrow]]\n",
    "            matrix[nrow], matrix[pivot] = matrix[pivot], np.copy(matrix[nrow])\n",
    "        row = matrix[nrow]\n",
    "        divider = row[nrow] # диагональный элемент\n",
    "        if abs(divider) < 1e-10:\n",
    "            # почти нуль на диагонали. Продолжать не имеет смысла, результат счёта неустойчив\n",
    "            raise ValueError(\"Матрица несовместна\")\n",
    "        # делим на диагональный элемент.\n",
    "        row /= divider\n",
    "        # теперь надо вычесть приведённую строку из всех нижележащих строчек\n",
    "        for lower_row in matrix[nrow+1:]:\n",
    "            factor = lower_row[nrow] # элемент строки в колонке nrow\n",
    "            lower_row -= factor*row # вычитаем, чтобы получить ноль в колонке nrow\n",
    "    return matrix\n",
    "\n",
    "def gaussSolvePivot(A, b=None):\n",
    "    \"\"\"Решает систему линейных алгебраических уравнений Ax=b\n",
    "    Если b is None, то свободные коэффициенты в последней колонке\"\"\"\n",
    "    shape = A.shape\n",
    "    assert len(shape) == 2, (\"Матрица не двумерная\", shape) # двумерная матрица\n",
    "    A = A.copy()\n",
    "    if b is not None:\n",
    "        assert shape[0] == shape[1], (\"Матрица не квадратная\", shape)\n",
    "        assert b.shape == (shape[0],), (\"Размерность свободных членов не соответствует матрица\", shape, b.shape)\n",
    "        # добавляем свободные члены дополнительным столбцом\n",
    "        A = np.c_[A, b]\n",
    "    else:\n",
    "        # Проверяем, что квадратная плюс столбец\n",
    "        assert shape[0]+1 == shape[1], (\"Неверный формат матрицы\", shape)\n",
    "    makeTrianglePivot(A)\n",
    "    makeIdentity(A)\n",
    "    return A[:,-1]\n",
    "\n",
    "def makeIdentity(matrix):\n",
    "    # перебор строк в обратном порядке \n",
    "    for nrow in range(len(matrix)-1,0,-1):\n",
    "        row = matrix[nrow]\n",
    "        for upper_row in matrix[:nrow]:\n",
    "            factor = upper_row[nrow]\n",
    "            # вычитать строки не нужно, так как в row только два элемента отличны от 0:\n",
    "            # в последней колонке и на диагонали\n",
    "            \n",
    "            # вычитание в последней колонке\n",
    "            upper_row[-1] -= factor*row[-1]\n",
    "            # вместо вычитания 1*factor просто обнулим коэффициент в соотвествующей колонке. \n",
    "            upper_row[nrow] = 0\n",
    "    return matrix"
   ]
  },
  {
   "cell_type": "code",
   "execution_count": 4,
   "id": "2174924a",
   "metadata": {},
   "outputs": [
    {
     "name": "stdout",
     "output_type": "stream",
     "text": [
      "1\n",
      "101\n",
      "201\n",
      "301\n",
      "401\n",
      "501\n",
      "601\n",
      "701\n",
      "801\n",
      "901\n",
      "1001\n",
      "1101\n",
      "1201\n",
      "1301\n",
      "1401\n",
      "1501\n",
      "1601\n",
      "1701\n",
      "1801\n",
      "1901\n",
      "2001\n",
      "2101\n",
      "2201\n",
      "2301\n",
      "2401\n",
      "2501\n",
      "2601\n",
      "2701\n",
      "2801\n",
      "2901\n"
     ]
    },
    {
     "data": {
      "image/png": "[encoded data removed]",
      "text/plain": [
       "<Figure size 432x288 with 1 Axes>"
      ]
     },
     "metadata": {
      "needs_background": "light"
     },
     "output_type": "display_data"
    },
    {
     "data": {
      "image/png": "[encoded data removed]",
      "text/plain": [
       "<Figure size 432x288 with 1 Axes>"
      ]
     },
     "metadata": {
      "needs_background": "light"
     },
     "output_type": "display_data"
    }
   ],
   "source": [
    "times = []\n",
    "for i in range(1, 3000, 100):\n",
    "    matrix = np.random.rand(i, i+1)\n",
    "    start = time.time()\n",
    "    gaussSolvePivot(matrix)\n",
    "    end = time.time()\n",
    "    times.append(end-start)\n",
    "    print(i)\n",
    "\n",
    "x = np.arange(1, 3000, 100)\n",
    "plt.plot(times)\n",
    "plt.show()\n",
    "plt.plot(np.log(x), np.log(times))\n",
    "plt.show()"
   ]
  },
  {
   "cell_type": "code",
   "execution_count": 11,
   "id": "7bc85a6b",
   "metadata": {},
   "outputs": [
    {
     "data": {
      "text/plain": [
       "array([ 1.11022302e-16, -1.11022302e-16, -1.11022302e-16])"
      ]
     },
     "execution_count": 11,
     "metadata": {},
     "output_type": "execute_result"
    }
   ],
   "source": [
    "A = np.random.rand(3,3)\n",
    "b = np.random.rand(3)\n",
    "x = gaussSolvePivot(A, b)\n",
    "vec = A@x - b\n",
    "vec"
   ]
  },
  {
   "cell_type": "code",
   "execution_count": null,
   "id": "cdbac273",
   "metadata": {},
   "outputs": [],
   "source": []
  }
 ],
 "metadata": {
  "kernelspec": {
   "display_name": "Python 3 (ipykernel)",
   "language": "python",
   "name": "python3"
  },
  "language_info": {
   "codemirror_mode": {
    "name": "ipython",
    "version": 3
   },
   "file_extension": ".py",
   "mimetype": "text/x-python",
   "name": "python",
   "nbconvert_exporter": "python",
   "pygments_lexer": "ipython3",
   "version": "3.8.10"
  }
 },
 "nbformat": 4,
 "nbformat_minor": 5
}
